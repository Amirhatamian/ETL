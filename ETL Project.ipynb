{
 "cells": [
  {
   "cell_type": "markdown",
   "metadata": {},
   "source": [
    "# Import software libraries"
   ]
  },
  {
   "cell_type": "code",
   "execution_count": 36,
   "metadata": {},
   "outputs": [
    {
     "name": "stdout",
     "output_type": "stream",
     "text": [
      "Libraries used in this project:\n",
      "- Python 3.7.6 | packaged by conda-forge | (default, Mar 23 2020, 23:03:20) \n",
      "[GCC 7.3.0]\n",
      "- pandas 1.1.3\n",
      "- sqlite3 3.30.1\n"
     ]
    }
   ],
   "source": [
    "# Import required libraries.\n",
    "import sys           # Read system parameters.\n",
    "import pandas as pd  # Manipulate and analyze data.\n",
    "import sqlite3       # Manage SQL databases.\n",
    "\n",
    "# Summarize software libraries used.\n",
    "print('Libraries used in this project:')\n",
    "print('- Python {}'.format(sys.version))\n",
    "print('- pandas {}'.format(pd.__version__))\n",
    "print('- sqlite3 {}'.format(sqlite3.sqlite_version))"
   ]
  },
  {
   "cell_type": "markdown",
   "metadata": {},
   "source": [
    "# Examine the database"
   ]
  },
  {
   "cell_type": "code",
   "execution_count": 37,
   "metadata": {},
   "outputs": [
    {
     "data": {
      "text/plain": [
       "<sqlite3.Connection at 0x7efc689742d0>"
      ]
     },
     "execution_count": 37,
     "metadata": {},
     "output_type": "execute_result"
    }
   ],
   "source": [
    "conn = sqlite3.connect('/home/jovyan/work/Project/data/prod_sample.db')\n",
    "conn"
   ]
  },
  {
   "cell_type": "code",
   "execution_count": 38,
   "metadata": {},
   "outputs": [
    {
     "name": "stdout",
     "output_type": "stream",
     "text": [
      "List of tables in the database:\n",
      "stock_description\n",
      "online_retail_history\n"
     ]
    }
   ],
   "source": [
    "# List all the tables in the database.\n",
    "\n",
    "show_tables_query = \"SELECT name FROM sqlite_master WHERE type='table';\"\n",
    "\n",
    "# Execute the query and fetch the result\n",
    "tables_result = conn.execute(show_tables_query)\n",
    "\n",
    "# Fetch all the table names\n",
    "table_names = tables_result.fetchall()\n",
    "\n",
    "# Print the list of tables\n",
    "print('List of tables in the database:')\n",
    "for table in table_names:\n",
    "    print(table[0])\n"
   ]
  },
  {
   "cell_type": "markdown",
   "metadata": {},
   "source": [
    "# Read data from the `online_retail_history` table"
   ]
  },
  {
   "cell_type": "code",
   "execution_count": 39,
   "metadata": {},
   "outputs": [
    {
     "name": "stdout",
     "output_type": "stream",
     "text": [
      "Preview of the \"online_retail_history\" table data:\n",
      "  Invoice StockCode  Quantity          InvoiceDate  Price CustomerID  \\\n",
      "0  536365    85123A         6  2010-12-01 08:26:00   2.55      u1785   \n",
      "1  536367     84879        32  2010-12-01 08:34:00   1.69     u13047   \n",
      "2  536373    85123A         6  2010-12-01 09:02:00   2.55      u1785   \n",
      "3  536375    85123A         6  2010-12-01 09:32:00   2.55      u1785   \n",
      "4  536378     20725        10  2010-12-01 09:37:00   1.65     u14688   \n",
      "\n",
      "          Country  TotalAmount  \n",
      "0  United Kingdom        15.30  \n",
      "1  United Kingdom        54.08  \n",
      "2  United Kingdom        15.30  \n",
      "3  United Kingdom        15.30  \n",
      "4  United Kingdom        16.50  \n"
     ]
    }
   ],
   "source": [
    "# Write the query to be executed that selects everything from the online_retail_history table.\n",
    "# Write the query to select everything from the online_retail_history table\n",
    "select_query = \"SELECT * FROM online_retail_history;\"\n",
    "\n",
    "# Read the query result into a DataFrame\n",
    "online_retail_df = pd.read_sql_query(select_query, conn)\n",
    "\n",
    "# Preview the data\n",
    "print('Preview of the \"online_retail_history\" table data:')\n",
    "print(online_retail_df.head())"
   ]
  },
  {
   "cell_type": "code",
   "execution_count": 41,
   "metadata": {},
   "outputs": [
    {
     "name": "stdout",
     "output_type": "stream",
     "text": [
      "Shape of the \"online_retail_history\" table data:\n",
      "(15321, 8)\n"
     ]
    }
   ],
   "source": [
    "# Get the shape of the data.\n",
    "online_retail_history_shape = online_retail_df.shape\n",
    "\n",
    "# Print the shape\n",
    "print('Shape of the \"online_retail_history\" table data:')\n",
    "print(online_retail_history_shape)\n"
   ]
  },
  {
   "cell_type": "markdown",
   "metadata": {},
   "source": [
    "# Read data from the `stock_description` table"
   ]
  },
  {
   "cell_type": "code",
   "execution_count": 42,
   "metadata": {},
   "outputs": [
    {
     "name": "stdout",
     "output_type": "stream",
     "text": [
      "Preview of the \"stock_description\" table data:\n",
      "  StockCode                  Description\n",
      "0     10002  INFLATABLE POLITICAL GLOBE \n",
      "1     10080     GROOVY CACTUS INFLATABLE\n",
      "2     10120                 DOGGY RUBBER\n",
      "3    10123C        HEARTS WRAPPING TAPE \n",
      "4    10124A  SPOTS ON RED BOOKCOVER TAPE\n"
     ]
    }
   ],
   "source": [
    "# Write the query to be executed that selects everything from the online_retail_history table.\n",
    "select_stock_query = \"SELECT * FROM stock_description;\"\n",
    "\n",
    "# Read the query result into a DataFrame\n",
    "stock_description_df = pd.read_sql_query(select_stock_query, conn)\n",
    "\n",
    "# Preview the data\n",
    "print('Preview of the \"stock_description\" table data:')\n",
    "print(stock_description_df.head())\n"
   ]
  },
  {
   "cell_type": "code",
   "execution_count": 47,
   "metadata": {},
   "outputs": [
    {
     "name": "stdout",
     "output_type": "stream",
     "text": [
      "Shape of the \"stock_description_df\" DataFrame:\n",
      "(3952, 2)\n"
     ]
    }
   ],
   "source": [
    "# Get the shape of the data\n",
    "stock_description_shape = stock_description_df.shape\n",
    "\n",
    "# Print the shape\n",
    "print('Shape of the \"stock_description_df\" DataFrame:')\n",
    "print(stock_description_shape)\n",
    "\n"
   ]
  },
  {
   "cell_type": "markdown",
   "metadata": {},
   "source": [
    "# Aggregate the `online_retail_history` and `stock_description` datasets"
   ]
  },
  {
   "cell_type": "code",
   "execution_count": 77,
   "metadata": {},
   "outputs": [
    {
     "name": "stdout",
     "output_type": "stream",
     "text": [
      "Preview of the aggregated data:\n",
      "  Invoice StockCode  Quantity          InvoiceDate  Price CustomerID  \\\n",
      "0  536365    85123A         6  2010-12-01 08:26:00   2.55      u1785   \n",
      "1  536367     84879        32  2010-12-01 08:34:00   1.69     u13047   \n",
      "2  536373    85123A         6  2010-12-01 09:02:00   2.55      u1785   \n",
      "3  536375    85123A         6  2010-12-01 09:32:00   2.55      u1785   \n",
      "4  536378     20725        10  2010-12-01 09:37:00   1.65     u14688   \n",
      "\n",
      "          Country  TotalAmount                         Description  \n",
      "0  United Kingdom        15.30  CREAM HANGING HEART T-LIGHT HOLDER  \n",
      "1  United Kingdom        54.08       ASSORTED COLOUR BIRD ORNAMENT  \n",
      "2  United Kingdom        15.30  CREAM HANGING HEART T-LIGHT HOLDER  \n",
      "3  United Kingdom        15.30  CREAM HANGING HEART T-LIGHT HOLDER  \n",
      "4  United Kingdom        16.50             LUNCH BAG RED RETROSPOT  \n"
     ]
    }
   ],
   "source": [
    "# Write a query to left join both tables and fetch the first five rows\n",
    "aggregate_query = \"\"\"\n",
    "    SELECT o.*, s.Description\n",
    "    FROM online_retail_history o\n",
    "    LEFT JOIN stock_description s ON o.StockCode = s.StockCode;\n",
    "\"\"\"\n",
    "\n",
    "# Read the query result into a DataFrame\n",
    "aggregated_df = pd.read_sql_query(aggregate_query, conn)\n",
    "\n",
    "# Preview the first five rows of the aggregated data\n",
    "print('Preview of the aggregated data:')\n",
    "print(aggregated_df.head())\n"
   ]
  },
  {
   "cell_type": "code",
   "execution_count": 78,
   "metadata": {},
   "outputs": [
    {
     "name": "stdout",
     "output_type": "stream",
     "text": [
      "Shape of the aggregated data:\n",
      "(17032, 9)\n"
     ]
    }
   ],
   "source": [
    "# Get the shape of the data.\n",
    "\n",
    "aggregated_shape = aggregated_df.shape\n",
    "print('Shape of the aggregated data:')\n",
    "print(aggregated_shape)\n"
   ]
  },
  {
   "cell_type": "markdown",
   "metadata": {},
   "source": [
    "# Identify and fix corrupt or unusable data"
   ]
  },
  {
   "cell_type": "code",
   "execution_count": 79,
   "metadata": {},
   "outputs": [
    {
     "name": "stdout",
     "output_type": "stream",
     "text": [
      "Value counts of the \"Description\" field:\n",
      "CREAM HANGING HEART T-LIGHT HOLDER    2174\n",
      "JUMBO BAG RED RETROSPOT               1960\n",
      "REGENCY CAKESTAND 3 TIER              1711\n",
      "?                                     1711\n",
      "PARTY BUNTING                         1615\n",
      "LUNCH BAG RED RETROSPOT               1421\n",
      "ASSORTED COLOUR BIRD ORNAMENT         1405\n",
      "POPCORN HOLDER                        1329\n",
      "LUNCH BAG  BLACK SKULL.               1271\n",
      "SET OF 3 CAKE TINS PANTRY DESIGN      1257\n",
      "PACK OF 72 RETROSPOT CAKE CASES       1178\n",
      "Name: Description, dtype: int64\n"
     ]
    }
   ],
   "source": [
    "# Check the value counts of the \"Description\" field.\n",
    "description_value_counts = aggregated_df['Description'].value_counts()\n",
    "\n",
    "# Print the value counts\n",
    "print('Value counts of the \"Description\" field:')\n",
    "print(description_value_counts)"
   ]
  },
  {
   "cell_type": "code",
   "execution_count": 80,
   "metadata": {},
   "outputs": [
    {
     "name": "stdout",
     "output_type": "stream",
     "text": [
      "Preview of the cleaned data:\n",
      "  Invoice StockCode  Quantity          InvoiceDate  Price CustomerID  \\\n",
      "0  536365    85123A         6  2010-12-01 08:26:00   2.55      u1785   \n",
      "1  536367     84879        32  2010-12-01 08:34:00   1.69     u13047   \n",
      "2  536373    85123A         6  2010-12-01 09:02:00   2.55      u1785   \n",
      "3  536375    85123A         6  2010-12-01 09:32:00   2.55      u1785   \n",
      "4  536378     20725        10  2010-12-01 09:37:00   1.65     u14688   \n",
      "\n",
      "          Country  TotalAmount                         Description  \n",
      "0  United Kingdom        15.30  CREAM HANGING HEART T-LIGHT HOLDER  \n",
      "1  United Kingdom        54.08       ASSORTED COLOUR BIRD ORNAMENT  \n",
      "2  United Kingdom        15.30  CREAM HANGING HEART T-LIGHT HOLDER  \n",
      "3  United Kingdom        15.30  CREAM HANGING HEART T-LIGHT HOLDER  \n",
      "4  United Kingdom        16.50             LUNCH BAG RED RETROSPOT  \n"
     ]
    }
   ],
   "source": [
    "# Remove rows where \"Description\" is just a question mark (?).\n",
    "aggregated_df = aggregated_df[aggregated_df['Description'] != '?']\n",
    "\n",
    "# Preview the first five rows of the data.\n",
    "print('Preview of the cleaned data:')\n",
    "print(aggregated_df.head())\n"
   ]
  },
  {
   "cell_type": "markdown",
   "metadata": {},
   "source": [
    "# Identify and remove duplicates"
   ]
  },
  {
   "cell_type": "code",
   "execution_count": 83,
   "metadata": {},
   "outputs": [
    {
     "name": "stdout",
     "output_type": "stream",
     "text": [
      "All duplicated rows:\n",
      "      Invoice StockCode  Quantity          InvoiceDate  Price CustomerID  \\\n",
      "176    536863     20727         1  2010-12-03 11:19:00   1.65     u17967   \n",
      "178    536863     20727         1  2010-12-03 11:19:00   1.65     u17967   \n",
      "496    537781     84879         8  2010-12-08 12:46:00   1.69     u17341   \n",
      "497    537781     84879         8  2010-12-08 12:46:00   1.69     u17341   \n",
      "569    537955     20725         1  2010-12-09 11:28:00   1.65     u16782   \n",
      "...       ...       ...       ...                  ...    ...        ...   \n",
      "16673  580469     20727         1  2011-12-04 12:32:00   1.65     u14583   \n",
      "16714  580611     20727         1  2011-12-05 11:49:00   1.65     u12748   \n",
      "16716  580611     20727         1  2011-12-05 11:49:00   1.65     u12748   \n",
      "16994  581449     22423         1  2011-12-08 17:37:00  12.75     u12748   \n",
      "16996  581449     22423         1  2011-12-08 17:37:00  12.75     u12748   \n",
      "\n",
      "              Country  TotalAmount                    Description  \n",
      "176    United Kingdom         1.65        LUNCH BAG  BLACK SKULL.  \n",
      "178    United Kingdom         1.65        LUNCH BAG  BLACK SKULL.  \n",
      "496    United Kingdom        13.52  ASSORTED COLOUR BIRD ORNAMENT  \n",
      "497    United Kingdom        13.52  ASSORTED COLOUR BIRD ORNAMENT  \n",
      "569    United Kingdom         1.65        LUNCH BAG RED RETROSPOT  \n",
      "...               ...          ...                            ...  \n",
      "16673  United Kingdom         1.65        LUNCH BAG  BLACK SKULL.  \n",
      "16714  United Kingdom         1.65        LUNCH BAG  BLACK SKULL.  \n",
      "16716  United Kingdom         1.65        LUNCH BAG  BLACK SKULL.  \n",
      "16994  United Kingdom        12.75       REGENCY CAKESTAND 3 TIER  \n",
      "16996  United Kingdom        12.75       REGENCY CAKESTAND 3 TIER  \n",
      "\n",
      "[223 rows x 9 columns]\n"
     ]
    }
   ],
   "source": [
    "# Identify all duplicated data.\n",
    "\n",
    "# Identify all duplicated data\n",
    "all_duplicates = aggregated_df[aggregated_df.duplicated(keep=False)]\n",
    "\n",
    "# Display the duplicated rows\n",
    "print('All duplicated rows:')\n",
    "print(all_duplicates)\n",
    "\n",
    "\n"
   ]
  },
  {
   "cell_type": "code",
   "execution_count": 86,
   "metadata": {},
   "outputs": [
    {
     "name": "stdout",
     "output_type": "stream",
     "text": [
      "Duplicated rows:\n",
      "      Invoice StockCode  Quantity          InvoiceDate  Price CustomerID  \\\n",
      "178    536863     20727         1  2010-12-03 11:19:00   1.65     u17967   \n",
      "497    537781     84879         8  2010-12-08 12:46:00   1.69     u17341   \n",
      "571    537955     20725         1  2010-12-09 11:28:00   1.65     u16782   \n",
      "935    539092     22423        16  2010-12-16 10:08:00  10.95     u15482   \n",
      "1068   539475     22197         1  2010-12-19 14:41:00   0.85     u16686   \n",
      "...       ...       ...       ...                  ...    ...        ...   \n",
      "16542  580048     20727         1  2011-12-01 12:53:00   1.65     u12748   \n",
      "16671  580469     20727         2  2011-12-04 12:32:00   1.65     u14583   \n",
      "16673  580469     20727         1  2011-12-04 12:32:00   1.65     u14583   \n",
      "16716  580611     20727         1  2011-12-05 11:49:00   1.65     u12748   \n",
      "16996  581449     22423         1  2011-12-08 17:37:00  12.75     u12748   \n",
      "\n",
      "              Country  TotalAmount                    Description  \n",
      "178    United Kingdom         1.65        LUNCH BAG  BLACK SKULL.  \n",
      "497    United Kingdom        13.52  ASSORTED COLOUR BIRD ORNAMENT  \n",
      "571    United Kingdom         1.65        LUNCH BAG RED RETROSPOT  \n",
      "935    United Kingdom       175.20       REGENCY CAKESTAND 3 TIER  \n",
      "1068   United Kingdom         0.85                 POPCORN HOLDER  \n",
      "...               ...          ...                            ...  \n",
      "16542  United Kingdom         1.65        LUNCH BAG  BLACK SKULL.  \n",
      "16671  United Kingdom         3.30        LUNCH BAG  BLACK SKULL.  \n",
      "16673  United Kingdom         1.65        LUNCH BAG  BLACK SKULL.  \n",
      "16716  United Kingdom         1.65        LUNCH BAG  BLACK SKULL.  \n",
      "16996  United Kingdom        12.75       REGENCY CAKESTAND 3 TIER  \n",
      "\n",
      "[115 rows x 9 columns]\n"
     ]
    }
   ],
   "source": [
    "# Print the duplicated data.\n",
    "\n",
    "print('Duplicated rows:')\n",
    "duplicates = aggregated_df[aggregated_df.duplicated()]\n",
    "print(duplicates)"
   ]
  },
  {
   "cell_type": "code",
   "execution_count": 88,
   "metadata": {},
   "outputs": [
    {
     "name": "stdout",
     "output_type": "stream",
     "text": [
      "\n",
      "Preview of the data after removing duplicates:\n",
      "  Invoice StockCode  Quantity          InvoiceDate  Price CustomerID  \\\n",
      "0  536365    85123A         6  2010-12-01 08:26:00   2.55      u1785   \n",
      "1  536367     84879        32  2010-12-01 08:34:00   1.69     u13047   \n",
      "2  536373    85123A         6  2010-12-01 09:02:00   2.55      u1785   \n",
      "3  536375    85123A         6  2010-12-01 09:32:00   2.55      u1785   \n",
      "4  536378     20725        10  2010-12-01 09:37:00   1.65     u14688   \n",
      "\n",
      "          Country  TotalAmount                         Description  \n",
      "0  United Kingdom        15.30  CREAM HANGING HEART T-LIGHT HOLDER  \n",
      "1  United Kingdom        54.08       ASSORTED COLOUR BIRD ORNAMENT  \n",
      "2  United Kingdom        15.30  CREAM HANGING HEART T-LIGHT HOLDER  \n",
      "3  United Kingdom        15.30  CREAM HANGING HEART T-LIGHT HOLDER  \n",
      "4  United Kingdom        16.50             LUNCH BAG RED RETROSPOT  \n"
     ]
    }
   ],
   "source": [
    "# Remove the duplicated data.\n",
    "aggregated_df_no_duplicates = aggregated_df.drop_duplicates()\n",
    "\n",
    "# Preview the first five rows of the data.\n",
    "\n",
    "print('\\nPreview of the data after removing duplicates:')\n",
    "print(aggregated_df_no_duplicates.head())"
   ]
  },
  {
   "cell_type": "markdown",
   "metadata": {},
   "source": [
    "# Correct date formats"
   ]
  },
  {
   "cell_type": "code",
   "execution_count": 89,
   "metadata": {},
   "outputs": [
    {
     "name": "stdout",
     "output_type": "stream",
     "text": [
      "DataFrame with corrected date format:\n",
      "  Invoice StockCode  Quantity         InvoiceDate  Price CustomerID  \\\n",
      "0  536365    85123A         6 2010-12-01 08:26:00   2.55      u1785   \n",
      "1  536367     84879        32 2010-12-01 08:34:00   1.69     u13047   \n",
      "2  536373    85123A         6 2010-12-01 09:02:00   2.55      u1785   \n",
      "3  536375    85123A         6 2010-12-01 09:32:00   2.55      u1785   \n",
      "4  536378     20725        10 2010-12-01 09:37:00   1.65     u14688   \n",
      "\n",
      "          Country  TotalAmount                         Description  \n",
      "0  United Kingdom        15.30  CREAM HANGING HEART T-LIGHT HOLDER  \n",
      "1  United Kingdom        54.08       ASSORTED COLOUR BIRD ORNAMENT  \n",
      "2  United Kingdom        15.30  CREAM HANGING HEART T-LIGHT HOLDER  \n",
      "3  United Kingdom        15.30  CREAM HANGING HEART T-LIGHT HOLDER  \n",
      "4  United Kingdom        16.50             LUNCH BAG RED RETROSPOT  \n",
      "\n",
      "Data types for every column:\n",
      "Invoice                object\n",
      "StockCode              object\n",
      "Quantity                int64\n",
      "InvoiceDate    datetime64[ns]\n",
      "Price                 float64\n",
      "CustomerID             object\n",
      "Country                object\n",
      "TotalAmount           float64\n",
      "Description            object\n",
      "dtype: object\n"
     ]
    }
   ],
   "source": [
    "# Get the data types for every column in the DataFrame.\n",
    "# Correct date formats\n",
    "aggregated_df['InvoiceDate'] = pd.to_datetime(aggregated_df['InvoiceDate'], errors='coerce')\n",
    "\n",
    "# Get the data types for every column in the DataFrame\n",
    "data_types = aggregated_df.dtypes\n",
    "\n",
    "# Display the corrected DataFrame and data types\n",
    "print('DataFrame with corrected date format:')\n",
    "print(aggregated_df.head())\n",
    "\n",
    "print('\\nData types for every column:')\n",
    "print(data_types)\n",
    "\n"
   ]
  },
  {
   "cell_type": "code",
   "execution_count": 91,
   "metadata": {},
   "outputs": [
    {
     "name": "stdout",
     "output_type": "stream",
     "text": [
      "DataFrame with updated InvoiceDate format:\n",
      "  Invoice StockCode  Quantity InvoiceDate  Price CustomerID         Country  \\\n",
      "0  536365    85123A         6  2010-12-01   2.55      u1785  United Kingdom   \n",
      "1  536367     84879        32  2010-12-01   1.69     u13047  United Kingdom   \n",
      "2  536373    85123A         6  2010-12-01   2.55      u1785  United Kingdom   \n",
      "3  536375    85123A         6  2010-12-01   2.55      u1785  United Kingdom   \n",
      "4  536378     20725        10  2010-12-01   1.65     u14688  United Kingdom   \n",
      "\n",
      "   TotalAmount                         Description  \n",
      "0        15.30  CREAM HANGING HEART T-LIGHT HOLDER  \n",
      "1        54.08       ASSORTED COLOUR BIRD ORNAMENT  \n",
      "2        15.30  CREAM HANGING HEART T-LIGHT HOLDER  \n",
      "3        15.30  CREAM HANGING HEART T-LIGHT HOLDER  \n",
      "4        16.50             LUNCH BAG RED RETROSPOT  \n"
     ]
    }
   ],
   "source": [
    "# Convert \"InvoiceDate\" to a \"%Y-%m-%d\" datetime format\n",
    "aggregated_df['InvoiceDate'] = pd.to_datetime(aggregated_df['InvoiceDate'], errors='coerce').dt.strftime('%Y-%m-%d')\n",
    "\n",
    "# Display the DataFrame with the updated \"InvoiceDate\" format\n",
    "print('DataFrame with updated InvoiceDate format:')\n",
    "print(aggregated_df.head())\n",
    "\n"
   ]
  },
  {
   "cell_type": "code",
   "execution_count": 92,
   "metadata": {},
   "outputs": [
    {
     "name": "stdout",
     "output_type": "stream",
     "text": [
      "Data types for every column in the converted DataFrame:\n",
      "Invoice         object\n",
      "StockCode       object\n",
      "Quantity         int64\n",
      "InvoiceDate     object\n",
      "Price          float64\n",
      "CustomerID      object\n",
      "Country         object\n",
      "TotalAmount    float64\n",
      "Description     object\n",
      "dtype: object\n"
     ]
    }
   ],
   "source": [
    "# Get the data types for every column in the converted DataFrame\n",
    "data_types_after_conversion = aggregated_df.dtypes\n",
    "\n",
    "# Display the data types\n",
    "print('Data types for every column in the converted DataFrame:')\n",
    "print(data_types_after_conversion)\n"
   ]
  },
  {
   "cell_type": "markdown",
   "metadata": {},
   "source": [
    "# Examine the table before finishing"
   ]
  },
  {
   "cell_type": "code",
   "execution_count": null,
   "metadata": {},
   "outputs": [],
   "source": [
    "# Preview the first five rows of the data.\n",
    "print('Preview of the data:')\n",
    "print(aggregated_df.head())\n"
   ]
  },
  {
   "cell_type": "markdown",
   "metadata": {},
   "source": [
    "# Load the dataset into a pickle file"
   ]
  },
  {
   "cell_type": "code",
   "execution_count": 93,
   "metadata": {},
   "outputs": [
    {
     "name": "stdout",
     "output_type": "stream",
     "text": [
      "Dataset has been saved as online_history_cleaned.pickle\n"
     ]
    }
   ],
   "source": [
    "# Save the dataset as a pickle file named online_history_cleaned.pickle.\n",
    "pickle_file_path = 'online_history_cleaned.pickle'\n",
    "aggregated_df.to_pickle(pickle_file_path)\n",
    "\n",
    "# Print a message indicating that the file has been saved\n",
    "print(f'Dataset has been saved as {pickle_file_path}')\n"
   ]
  },
  {
   "cell_type": "code",
   "execution_count": 96,
   "metadata": {},
   "outputs": [
    {
     "name": "stdout",
     "output_type": "stream",
     "text": [
      "Connection to the database has been closed.\n"
     ]
    }
   ],
   "source": [
    "# Close any connections to the database.\n",
    "conn.close()\n",
    "print('Connection to the database has been closed.')\n"
   ]
  },
  {
   "cell_type": "code",
   "execution_count": null,
   "metadata": {},
   "outputs": [],
   "source": []
  }
 ],
 "metadata": {
  "kernelspec": {
   "display_name": "Python 3",
   "language": "python",
   "name": "python3"
  }
 },
 "nbformat": 4,
 "nbformat_minor": 4
}
